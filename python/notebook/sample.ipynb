{
 "cells": [
  {
   "cell_type": "markdown",
   "metadata": {},
   "source": [
    "# Install Jupyter Notebook\n",
    "Use pip to install Jupyter Notebook by running `!pip install notebook`."
   ]
  },
  {
   "cell_type": "code",
   "execution_count": null,
   "metadata": {},
   "outputs": [],
   "source": [
    "# Install Jupyter Notebook\n",
    "!pip install notebook"
   ]
  },
  {
   "cell_type": "markdown",
   "metadata": {},
   "source": [
    "# Launch Jupyter Notebook\n",
    "Run `!jupyter notebook` in the terminal to start the Jupyter Notebook server."
   ]
  },
  {
   "cell_type": "code",
   "execution_count": null,
   "metadata": {},
   "outputs": [],
   "source": [
    "# Launch Jupyter Notebook\n",
    "!jupyter notebook"
   ]
  },
  {
   "cell_type": "markdown",
   "metadata": {},
   "source": [
    "# Create a New Notebook\n",
    "In the Jupyter Notebook interface, click on 'New' and select 'Python 3' to create a new notebook."
   ]
  },
  {
   "cell_type": "code",
   "execution_count": null,
   "metadata": {},
   "outputs": [],
   "source": [
    "# Create a New Notebook\n",
    "# In the Jupyter Notebook interface, click on 'New' and select 'Python 3' to create a new notebook.\n",
    "\n",
    "# No additional code is needed for this section as it is an instruction to the user."
   ]
  },
  {
   "cell_type": "markdown",
   "metadata": {},
   "source": [
    "# Basic Notebook Operations\n",
    "Learn basic operations such as adding cells, running cells, and using Markdown for documentation."
   ]
  },
  {
   "cell_type": "code",
   "execution_count": null,
   "metadata": {},
   "outputs": [],
   "source": [
    "# Basic Notebook Operations\n",
    "\n",
    "# Adding a New Cell\n",
    "# In the Jupyter Notebook interface, click on the '+' button to add a new cell below the current cell.\n",
    "\n",
    "# Running a Cell\n",
    "# To run a cell, click on the cell to select it and then click the 'Run' button or press Shift + Enter.\n",
    "\n",
    "# Using Markdown for Documentation\n",
    "# You can change a cell to Markdown by selecting the cell and then clicking on the 'Cell' menu, choosing 'Cell Type', and selecting 'Markdown'.\n",
    "# Below is an example of a Markdown cell:\n",
    "\n",
    "# This is a Markdown cell\n",
    "# You can use Markdown to add formatted text, headers, lists, and more to your notebook.\n",
    "# For example, you can create headers using the '#' symbol:\n",
    "# # Header 1\n",
    "# ## Header 2\n",
    "# ### Header 3\n",
    "# You can also create bullet lists:\n",
    "# - Item 1\n",
    "# - Item 2\n",
    "# - Item 3\n",
    "# And numbered lists:\n",
    "# 1. First item\n",
    "# 2. Second item\n",
    "# 3. Third item\n",
    "# You can also add **bold** text, *italic* text, and `inline code`."
   ]
  },
  {
   "cell_type": "markdown",
   "metadata": {},
   "source": [
    "# Save and Export Notebook\n",
    "Save the notebook by clicking on the save icon or pressing `Ctrl+S`. Export the notebook to different formats such as HTML or PDF."
   ]
  },
  {
   "cell_type": "code",
   "execution_count": null,
   "metadata": {},
   "outputs": [],
   "source": [
    "# Save and Export Notebook\n",
    "\n",
    "# Save the notebook by clicking on the save icon or pressing `Ctrl+S`.\n",
    "\n",
    "# Export the notebook to different formats such as HTML or PDF.\n",
    "# In the Jupyter Notebook interface, click on 'File' -> 'Download as' and select the desired format (e.g., HTML, PDF)."
   ]
  }
 ],
 "metadata": {
  "kernelspec": {
   "display_name": "Python 3",
   "language": "python",
   "name": "python3"
  },
  "language_info": {
   "codemirror_mode": {
    "name": "ipython",
    "version": 3
   },
   "file_extension": ".py",
   "mimetype": "text/x-python",
   "name": "python",
   "nbconvert_exporter": "python",
   "pygments_lexer": "ipython3",
   "version": "3.12.1"
  }
 },
 "nbformat": 4,
 "nbformat_minor": 2
}
